{
 "cells": [
  {
   "cell_type": "code",
   "execution_count": 1,
   "metadata": {
    "ExecuteTime": {
     "end_time": "2021-10-22T15:02:41.948020Z",
     "start_time": "2021-10-22T15:02:41.927989Z"
    }
   },
   "outputs": [],
   "source": [
    "import pandas as pd\n",
    "import numpy as np\n",
    "# 한글 표시 코드\n",
    "import matplotlib.pyplot as plt\n",
    "plt.rcParams['font.family'] = 'Malgun Gothic'\n",
    "import warnings\n",
    "warnings.filterwarnings('ignore')\n",
    "# 통계 검증 패키지\n",
    "import scipy.stats as stats\n",
    "from statsmodels.formula.api import ols\n",
    "from statsmodels.stats.anova import anova_lm\n",
    "%matplotlib inline"
   ]
  },
  {
   "cell_type": "code",
   "execution_count": 4,
   "metadata": {
    "ExecuteTime": {
     "end_time": "2021-10-22T15:03:17.640111Z",
     "start_time": "2021-10-22T15:03:16.817961Z"
    }
   },
   "outputs": [],
   "source": [
    "df1 = pd.read_csv('df2.csv', encoding = 'ansi')\n",
    "data = df1.copy()"
   ]
  },
  {
   "cell_type": "code",
   "execution_count": 51,
   "metadata": {},
   "outputs": [
    {
     "data": {
      "text/html": [
       "<div>\n",
       "<style scoped>\n",
       "    .dataframe tbody tr th:only-of-type {\n",
       "        vertical-align: middle;\n",
       "    }\n",
       "\n",
       "    .dataframe tbody tr th {\n",
       "        vertical-align: top;\n",
       "    }\n",
       "\n",
       "    .dataframe thead th {\n",
       "        text-align: right;\n",
       "    }\n",
       "</style>\n",
       "<table border=\"1\" class=\"dataframe\">\n",
       "  <thead>\n",
       "    <tr style=\"text-align: right;\">\n",
       "      <th></th>\n",
       "      <th>BMI</th>\n",
       "      <th>허리둘레</th>\n",
       "      <th>수축기혈압</th>\n",
       "      <th>이완기혈압</th>\n",
       "      <th>식전혈당(공복혈당)</th>\n",
       "      <th>총콜레스테롤</th>\n",
       "      <th>혈색소</th>\n",
       "      <th>(혈청지오티)ALT</th>\n",
       "      <th>감마지티피</th>\n",
       "      <th>요단백</th>\n",
       "      <th>흡연상태</th>\n",
       "      <th>cluster</th>\n",
       "    </tr>\n",
       "  </thead>\n",
       "  <tbody>\n",
       "    <tr>\n",
       "      <td>0</td>\n",
       "      <td>60.0</td>\n",
       "      <td>79.5</td>\n",
       "      <td>110.0</td>\n",
       "      <td>60.0</td>\n",
       "      <td>96.0</td>\n",
       "      <td>195.911052</td>\n",
       "      <td>12.8</td>\n",
       "      <td>8.0</td>\n",
       "      <td>12.0</td>\n",
       "      <td>1.0</td>\n",
       "      <td>1.0</td>\n",
       "      <td>0</td>\n",
       "    </tr>\n",
       "    <tr>\n",
       "      <td>1</td>\n",
       "      <td>55.0</td>\n",
       "      <td>69.3</td>\n",
       "      <td>128.0</td>\n",
       "      <td>78.0</td>\n",
       "      <td>79.0</td>\n",
       "      <td>195.911052</td>\n",
       "      <td>15.9</td>\n",
       "      <td>45.0</td>\n",
       "      <td>47.0</td>\n",
       "      <td>1.0</td>\n",
       "      <td>1.0</td>\n",
       "      <td>3</td>\n",
       "    </tr>\n",
       "    <tr>\n",
       "      <td>2</td>\n",
       "      <td>45.0</td>\n",
       "      <td>71.5</td>\n",
       "      <td>151.0</td>\n",
       "      <td>89.0</td>\n",
       "      <td>100.0</td>\n",
       "      <td>234.000000</td>\n",
       "      <td>12.7</td>\n",
       "      <td>10.0</td>\n",
       "      <td>13.0</td>\n",
       "      <td>1.0</td>\n",
       "      <td>1.0</td>\n",
       "      <td>1</td>\n",
       "    </tr>\n",
       "    <tr>\n",
       "      <td>3</td>\n",
       "      <td>50.0</td>\n",
       "      <td>77.0</td>\n",
       "      <td>114.0</td>\n",
       "      <td>62.0</td>\n",
       "      <td>124.0</td>\n",
       "      <td>195.911052</td>\n",
       "      <td>11.6</td>\n",
       "      <td>26.0</td>\n",
       "      <td>12.0</td>\n",
       "      <td>1.0</td>\n",
       "      <td>1.0</td>\n",
       "      <td>0</td>\n",
       "    </tr>\n",
       "    <tr>\n",
       "      <td>4</td>\n",
       "      <td>50.0</td>\n",
       "      <td>75.0</td>\n",
       "      <td>136.0</td>\n",
       "      <td>83.0</td>\n",
       "      <td>97.0</td>\n",
       "      <td>195.911052</td>\n",
       "      <td>13.1</td>\n",
       "      <td>21.0</td>\n",
       "      <td>27.0</td>\n",
       "      <td>1.0</td>\n",
       "      <td>1.0</td>\n",
       "      <td>1</td>\n",
       "    </tr>\n",
       "  </tbody>\n",
       "</table>\n",
       "</div>"
      ],
      "text/plain": [
       "    BMI  허리둘레  수축기혈압  이완기혈압  식전혈당(공복혈당)      총콜레스테롤   혈색소  (혈청지오티)ALT  감마지티피  \\\n",
       "0  60.0  79.5  110.0   60.0        96.0  195.911052  12.8         8.0   12.0   \n",
       "1  55.0  69.3  128.0   78.0        79.0  195.911052  15.9        45.0   47.0   \n",
       "2  45.0  71.5  151.0   89.0       100.0  234.000000  12.7        10.0   13.0   \n",
       "3  50.0  77.0  114.0   62.0       124.0  195.911052  11.6        26.0   12.0   \n",
       "4  50.0  75.0  136.0   83.0        97.0  195.911052  13.1        21.0   27.0   \n",
       "\n",
       "   요단백  흡연상태  cluster  \n",
       "0  1.0   1.0        0  \n",
       "1  1.0   1.0        3  \n",
       "2  1.0   1.0        1  \n",
       "3  1.0   1.0        0  \n",
       "4  1.0   1.0        1  "
      ]
     },
     "execution_count": 51,
     "metadata": {},
     "output_type": "execute_result"
    }
   ],
   "source": [
    "data.head()"
   ]
  },
  {
   "cell_type": "code",
   "execution_count": 52,
   "metadata": {},
   "outputs": [
    {
     "data": {
      "text/html": [
       "<div>\n",
       "<style scoped>\n",
       "    .dataframe tbody tr th:only-of-type {\n",
       "        vertical-align: middle;\n",
       "    }\n",
       "\n",
       "    .dataframe tbody tr th {\n",
       "        vertical-align: top;\n",
       "    }\n",
       "\n",
       "    .dataframe thead th {\n",
       "        text-align: right;\n",
       "    }\n",
       "</style>\n",
       "<table border=\"1\" class=\"dataframe\">\n",
       "  <thead>\n",
       "    <tr style=\"text-align: right;\">\n",
       "      <th></th>\n",
       "      <th>BMI</th>\n",
       "      <th>허리둘레</th>\n",
       "      <th>수축기혈압</th>\n",
       "      <th>이완기혈압</th>\n",
       "      <th>식전혈당(공복혈당)</th>\n",
       "      <th>총콜레스테롤</th>\n",
       "      <th>혈색소</th>\n",
       "      <th>(혈청지오티)ALT</th>\n",
       "      <th>감마지티피</th>\n",
       "      <th>요단백</th>\n",
       "      <th>흡연상태</th>\n",
       "    </tr>\n",
       "    <tr>\n",
       "      <th>cluster</th>\n",
       "      <th></th>\n",
       "      <th></th>\n",
       "      <th></th>\n",
       "      <th></th>\n",
       "      <th></th>\n",
       "      <th></th>\n",
       "      <th></th>\n",
       "      <th></th>\n",
       "      <th></th>\n",
       "      <th></th>\n",
       "      <th></th>\n",
       "    </tr>\n",
       "  </thead>\n",
       "  <tbody>\n",
       "    <tr>\n",
       "      <td>0</td>\n",
       "      <td>53.433039</td>\n",
       "      <td>72.631644</td>\n",
       "      <td>109.578619</td>\n",
       "      <td>67.637136</td>\n",
       "      <td>90.665905</td>\n",
       "      <td>195.137787</td>\n",
       "      <td>13.337997</td>\n",
       "      <td>15.774764</td>\n",
       "      <td>16.909703</td>\n",
       "      <td>1.022994</td>\n",
       "      <td>1.215223</td>\n",
       "    </tr>\n",
       "    <tr>\n",
       "      <td>1</td>\n",
       "      <td>59.126767</td>\n",
       "      <td>80.181356</td>\n",
       "      <td>129.680709</td>\n",
       "      <td>79.984498</td>\n",
       "      <td>97.952361</td>\n",
       "      <td>196.431614</td>\n",
       "      <td>13.665861</td>\n",
       "      <td>19.002553</td>\n",
       "      <td>20.638587</td>\n",
       "      <td>1.003628</td>\n",
       "      <td>1.155624</td>\n",
       "    </tr>\n",
       "    <tr>\n",
       "      <td>2</td>\n",
       "      <td>61.878786</td>\n",
       "      <td>80.635393</td>\n",
       "      <td>122.430230</td>\n",
       "      <td>75.454496</td>\n",
       "      <td>96.448729</td>\n",
       "      <td>194.200455</td>\n",
       "      <td>14.130951</td>\n",
       "      <td>20.060796</td>\n",
       "      <td>23.760825</td>\n",
       "      <td>2.751825</td>\n",
       "      <td>1.488080</td>\n",
       "    </tr>\n",
       "    <tr>\n",
       "      <td>3</td>\n",
       "      <td>71.272416</td>\n",
       "      <td>85.947444</td>\n",
       "      <td>123.022501</td>\n",
       "      <td>76.819237</td>\n",
       "      <td>97.684986</td>\n",
       "      <td>195.985965</td>\n",
       "      <td>15.346844</td>\n",
       "      <td>26.227548</td>\n",
       "      <td>33.066254</td>\n",
       "      <td>1.017908</td>\n",
       "      <td>2.142024</td>\n",
       "    </tr>\n",
       "  </tbody>\n",
       "</table>\n",
       "</div>"
      ],
      "text/plain": [
       "               BMI       허리둘레       수축기혈압      이완기혈압  식전혈당(공복혈당)      총콜레스테롤  \\\n",
       "cluster                                                                        \n",
       "0        53.433039  72.631644  109.578619  67.637136   90.665905  195.137787   \n",
       "1        59.126767  80.181356  129.680709  79.984498   97.952361  196.431614   \n",
       "2        61.878786  80.635393  122.430230  75.454496   96.448729  194.200455   \n",
       "3        71.272416  85.947444  123.022501  76.819237   97.684986  195.985965   \n",
       "\n",
       "               혈색소  (혈청지오티)ALT      감마지티피       요단백      흡연상태  \n",
       "cluster                                                        \n",
       "0        13.337997   15.774764  16.909703  1.022994  1.215223  \n",
       "1        13.665861   19.002553  20.638587  1.003628  1.155624  \n",
       "2        14.130951   20.060796  23.760825  2.751825  1.488080  \n",
       "3        15.346844   26.227548  33.066254  1.017908  2.142024  "
      ]
     },
     "execution_count": 52,
     "metadata": {},
     "output_type": "execute_result"
    }
   ],
   "source": [
    "data.groupby('cluster').mean()\n"
   ]
  },
  {
   "cell_type": "markdown",
   "metadata": {},
   "source": [
    "- 일원분산분석"
   ]
  },
  {
   "cell_type": "markdown",
   "metadata": {},
   "source": [
    "가설1 : 군집별로 허리둘레에 차이가 있을 것이다. anova 검정"
   ]
  },
  {
   "cell_type": "code",
   "execution_count": 53,
   "metadata": {
    "scrolled": true
   },
   "outputs": [],
   "source": [
    "group1 = data[data['cluster'] == 0]\n",
    "group2 = data[data['cluster'] == 1]\n",
    "group3 = data[data['cluster'] == 2]\n",
    "group4 = data[data['cluster'] == 3]"
   ]
  },
  {
   "cell_type": "code",
   "execution_count": 54,
   "metadata": {},
   "outputs": [],
   "source": [
    "group1_waist = group1[['허리둘레']].values\n",
    "group2_waist = group2[['허리둘레']].values\n",
    "group3_waist = group3[['허리둘레']].values\n",
    "group4_waist = group4[['허리둘레']].values"
   ]
  },
  {
   "cell_type": "code",
   "execution_count": 55,
   "metadata": {},
   "outputs": [],
   "source": [
    "plt.rcParams[\"figure.figsize\"] = (14,4)\n"
   ]
  },
  {
   "cell_type": "code",
   "execution_count": 57,
   "metadata": {},
   "outputs": [
    {
     "data": {
      "image/png": "[encoded data removed]",
      "text/plain": [
       "<Figure size 1008x288 with 1 Axes>"
      ]
     },
     "metadata": {
      "needs_background": "light"
     },
     "output_type": "display_data"
    }
   ],
   "source": [
    "# matplotlib plotting\n",
    "plot_data = [group1_waist, group2_waist, group3_waist,group4_waist]\n",
    "ax = plt.boxplot(plot_data)\n",
    "plt.show()"
   ]
  },
  {
   "cell_type": "code",
   "execution_count": 64,
   "metadata": {
    "scrolled": true
   },
   "outputs": [
    {
     "name": "stdout",
     "output_type": "stream",
     "text": [
      "데이터의 일원분산분석 결과 : F=70257.9, p=0.00000\n",
      "P-value 값이 충분히 작음으로 인해 그룹간 허리둘레의 평균이 통계적으로 유의미하게 차이난다.\n"
     ]
    }
   ],
   "source": [
    "F_statistic, pVal = stats.f_oneway(group1_waist, group2_waist, group3_waist)\n",
    "\n",
    "print('데이터의 일원분산분석 결과 : F={0:.1f}, p={1:.5f}'.format(F_statistic[0], pVal[0]))\n",
    "if pVal < 0.05:\n",
    "    print('P-value 값이 충분히 작음으로 인해 그룹간 허리둘레의 평균이 통계적으로 유의미하게 차이난다.')"
   ]
  },
  {
   "cell_type": "code",
   "execution_count": 59,
   "metadata": {},
   "outputs": [],
   "source": [
    "df=data[['허리둘레', 'cluster']]"
   ]
  },
  {
   "cell_type": "code",
   "execution_count": 60,
   "metadata": {
    "scrolled": true
   },
   "outputs": [
    {
     "name": "stdout",
     "output_type": "stream",
     "text": [
      "                  df        sum_sq       mean_sq              F  PR(>F)\n",
      "C(cluster)       3.0  2.199579e+07  7.331932e+06  151314.389292     0.0\n",
      "Residual    735520.0  3.563959e+07  4.845495e+01            NaN     NaN\n"
     ]
    }
   ],
   "source": [
    "# 같은 결과를 다른 패키지를 활용해서 도출, 표형태로 출력됨\n",
    "df=data[['허리둘레', 'cluster']]\n",
    "\n",
    "model = ols('허리둘레 ~ C(cluster)', df).fit()\n",
    "\n",
    "print(anova_lm(model))"
   ]
  },
  {
   "cell_type": "markdown",
   "metadata": {},
   "source": [
    "- 가설2 : 군집간 수축기혈압에 차이가 있을 것이다."
   ]
  },
  {
   "cell_type": "code",
   "execution_count": 65,
   "metadata": {},
   "outputs": [],
   "source": [
    "group1_SBP = group1[['수축기혈압']].values\n",
    "group2_SBP = group2[['수축기혈압']].values\n",
    "group3_SBP = group3[['수축기혈압']].values\n",
    "group4_SBP = group4[['수축기혈압']].values"
   ]
  },
  {
   "cell_type": "code",
   "execution_count": 67,
   "metadata": {},
   "outputs": [
    {
     "data": {
      "image/png": "[encoded data removed]",
      "text/plain": [
       "<Figure size 1008x288 with 1 Axes>"
      ]
     },
     "metadata": {
      "needs_background": "light"
     },
     "output_type": "display_data"
    }
   ],
   "source": [
    "# matplotlib plotting\n",
    "plot_data = [group1_SBP, group2_SBP, group3_SBP,group4_SBP]\n",
    "ax = plt.boxplot(plot_data)\n",
    "plt.show()"
   ]
  },
  {
   "cell_type": "code",
   "execution_count": 69,
   "metadata": {
    "scrolled": true
   },
   "outputs": [
    {
     "name": "stdout",
     "output_type": "stream",
     "text": [
      "데이터의 일원분산분석 결과 : F=161643.9, p=0.00000\n",
      "P-value 값이 충분히 작음으로 인해 그룹간 수축기혈압의 평균이 통계적으로 유의미하게 차이난다.\n"
     ]
    }
   ],
   "source": [
    "F_statistic, pVal = stats.f_oneway(group1_SBP, group2_SBP, group3_SBP, group4_SBP)\n",
    "\n",
    "print('데이터의 일원분산분석 결과 : F={0:.1f}, p={1:.5f}'.format(F_statistic[0], pVal[0]))\n",
    "if pVal < 0.05:\n",
    "    print('P-value 값이 충분히 작음으로 인해 그룹간 수축기혈압의 평균이 통계적으로 유의미하게 차이난다.')"
   ]
  },
  {
   "cell_type": "markdown",
   "metadata": {},
   "source": [
    "- 가설3 : 군집간 이완기혈압에 차이가 있을 것이다."
   ]
  },
  {
   "cell_type": "code",
   "execution_count": 70,
   "metadata": {},
   "outputs": [],
   "source": [
    "group1_DBP = group1[['이완기혈압']].values\n",
    "group2_DBP = group2[['이완기혈압']].values\n",
    "group3_DBP = group3[['이완기혈압']].values\n",
    "group4_DBP = group4[['이완기혈압']].values"
   ]
  },
  {
   "cell_type": "code",
   "execution_count": 71,
   "metadata": {},
   "outputs": [
    {
     "data": {
      "image/png": "[encoded data removed]",
      "text/plain": [
       "<Figure size 1008x288 with 1 Axes>"
      ]
     },
     "metadata": {
      "needs_background": "light"
     },
     "output_type": "display_data"
    }
   ],
   "source": [
    "# matplotlib plotting\n",
    "plot_data = [group1_DBP, group2_DBP, group3_DBP,group4_DBP]\n",
    "ax = plt.boxplot(plot_data)\n",
    "plt.show()"
   ]
  },
  {
   "cell_type": "code",
   "execution_count": 72,
   "metadata": {
    "scrolled": true
   },
   "outputs": [
    {
     "name": "stdout",
     "output_type": "stream",
     "text": [
      "데이터의 일원분산분석 결과 : F=206193.3, p=0.00000\n",
      "P-value 값이 충분히 작음으로 인해 그룹간 이완기혈압의 평균이 통계적으로 유의미하게 차이난다.\n"
     ]
    }
   ],
   "source": [
    "F_statistic, pVal = stats.f_oneway(group1_DBP, group2_DBP, group3_DBP)\n",
    "\n",
    "print('데이터의 일원분산분석 결과 : F={0:.1f}, p={1:.5f}'.format(F_statistic[0], pVal[0]))\n",
    "if pVal < 0.05:\n",
    "    print('P-value 값이 충분히 작음으로 인해 그룹간 이완기혈압의 평균이 통계적으로 유의미하게 차이난다.')"
   ]
  },
  {
   "cell_type": "markdown",
   "metadata": {},
   "source": [
    "- 가설4 : 군집간 식전혈당에 차이가 있을 것이다."
   ]
  },
  {
   "cell_type": "code",
   "execution_count": 18,
   "metadata": {
    "scrolled": true
   },
   "outputs": [
    {
     "data": {
      "text/html": [
       "<div>\n",
       "<style scoped>\n",
       "    .dataframe tbody tr th:only-of-type {\n",
       "        vertical-align: middle;\n",
       "    }\n",
       "\n",
       "    .dataframe tbody tr th {\n",
       "        vertical-align: top;\n",
       "    }\n",
       "\n",
       "    .dataframe thead th {\n",
       "        text-align: right;\n",
       "    }\n",
       "</style>\n",
       "<table border=\"1\" class=\"dataframe\">\n",
       "  <thead>\n",
       "    <tr style=\"text-align: right;\">\n",
       "      <th></th>\n",
       "      <th>허리둘레</th>\n",
       "      <th>수축기혈압</th>\n",
       "      <th>이완기혈압</th>\n",
       "      <th>식전혈당(공복혈당)</th>\n",
       "      <th>총콜레스테롤</th>\n",
       "      <th>혈색소</th>\n",
       "      <th>(혈청지오티)ALT</th>\n",
       "      <th>감마지티피</th>\n",
       "      <th>요단백</th>\n",
       "      <th>흡연상태</th>\n",
       "      <th>cluster</th>\n",
       "    </tr>\n",
       "  </thead>\n",
       "  <tbody>\n",
       "    <tr>\n",
       "      <td>0</td>\n",
       "      <td>79.5</td>\n",
       "      <td>110.0</td>\n",
       "      <td>60.0</td>\n",
       "      <td>96.0</td>\n",
       "      <td>195.911052</td>\n",
       "      <td>12.8</td>\n",
       "      <td>8.0</td>\n",
       "      <td>12.0</td>\n",
       "      <td>1.0</td>\n",
       "      <td>1.0</td>\n",
       "      <td>0</td>\n",
       "    </tr>\n",
       "    <tr>\n",
       "      <td>1</td>\n",
       "      <td>69.3</td>\n",
       "      <td>128.0</td>\n",
       "      <td>78.0</td>\n",
       "      <td>79.0</td>\n",
       "      <td>195.911052</td>\n",
       "      <td>15.9</td>\n",
       "      <td>45.0</td>\n",
       "      <td>47.0</td>\n",
       "      <td>1.0</td>\n",
       "      <td>1.0</td>\n",
       "      <td>2</td>\n",
       "    </tr>\n",
       "  </tbody>\n",
       "</table>\n",
       "</div>"
      ],
      "text/plain": [
       "   허리둘레  수축기혈압  이완기혈압  식전혈당(공복혈당)      총콜레스테롤   혈색소  (혈청지오티)ALT  감마지티피  요단백  \\\n",
       "0  79.5  110.0   60.0        96.0  195.911052  12.8         8.0   12.0  1.0   \n",
       "1  69.3  128.0   78.0        79.0  195.911052  15.9        45.0   47.0  1.0   \n",
       "\n",
       "   흡연상태  cluster  \n",
       "0   1.0        0  \n",
       "1   1.0        2  "
      ]
     },
     "execution_count": 18,
     "metadata": {},
     "output_type": "execute_result"
    }
   ],
   "source": [
    "data.head(2)"
   ]
  },
  {
   "cell_type": "code",
   "execution_count": 73,
   "metadata": {},
   "outputs": [],
   "source": [
    "group1_FBS = group1[['식전혈당(공복혈당)']].values\n",
    "group2_FBS = group2[['식전혈당(공복혈당)']].values\n",
    "group3_FBS = group3[['식전혈당(공복혈당)']].values\n",
    "group4_FBS = group4[['식전혈당(공복혈당)']].values"
   ]
  },
  {
   "cell_type": "code",
   "execution_count": 75,
   "metadata": {},
   "outputs": [
    {
     "data": {
      "image/png": "[encoded data removed]",
      "text/plain": [
       "<Figure size 1008x288 with 1 Axes>"
      ]
     },
     "metadata": {
      "needs_background": "light"
     },
     "output_type": "display_data"
    }
   ],
   "source": [
    "# matplotlib plotting\n",
    "plot_data = [group1_FBS, group2_FBS, group3_FBS, group4_FBS]\n",
    "ax = plt.boxplot(plot_data)\n",
    "plt.show()"
   ]
  },
  {
   "cell_type": "code",
   "execution_count": 76,
   "metadata": {
    "scrolled": true
   },
   "outputs": [
    {
     "name": "stdout",
     "output_type": "stream",
     "text": [
      "데이터의 일원분산분석 결과 : F=29603.4, p=0.00000\n",
      "P-value 값이 충분히 작음으로 인해 그룹간 공복혈당의 평균이 통계적으로 유의미하게 차이난다.\n"
     ]
    }
   ],
   "source": [
    "F_statistic, pVal = stats.f_oneway(group1_FBS, group2_FBS, group3_FBS)\n",
    "\n",
    "print('데이터의 일원분산분석 결과 : F={0:.1f}, p={1:.5f}'.format(F_statistic[0], pVal[0]))\n",
    "if pVal < 0.05:\n",
    "    print('P-value 값이 충분히 작음으로 인해 그룹간 공복혈당의 평균이 통계적으로 유의미하게 차이난다.')"
   ]
  },
  {
   "cell_type": "code",
   "execution_count": null,
   "metadata": {},
   "outputs": [],
   "source": []
  },
  {
   "cell_type": "markdown",
   "metadata": {},
   "source": [
    "- 가설5 : 군집간 총콜레스테롤에 차이가 있을 것이다."
   ]
  },
  {
   "cell_type": "code",
   "execution_count": 22,
   "metadata": {},
   "outputs": [
    {
     "data": {
      "text/html": [
       "<div>\n",
       "<style scoped>\n",
       "    .dataframe tbody tr th:only-of-type {\n",
       "        vertical-align: middle;\n",
       "    }\n",
       "\n",
       "    .dataframe tbody tr th {\n",
       "        vertical-align: top;\n",
       "    }\n",
       "\n",
       "    .dataframe thead th {\n",
       "        text-align: right;\n",
       "    }\n",
       "</style>\n",
       "<table border=\"1\" class=\"dataframe\">\n",
       "  <thead>\n",
       "    <tr style=\"text-align: right;\">\n",
       "      <th></th>\n",
       "      <th>허리둘레</th>\n",
       "      <th>수축기혈압</th>\n",
       "      <th>이완기혈압</th>\n",
       "      <th>식전혈당(공복혈당)</th>\n",
       "      <th>총콜레스테롤</th>\n",
       "      <th>혈색소</th>\n",
       "      <th>(혈청지오티)ALT</th>\n",
       "      <th>감마지티피</th>\n",
       "      <th>요단백</th>\n",
       "      <th>흡연상태</th>\n",
       "      <th>cluster</th>\n",
       "    </tr>\n",
       "  </thead>\n",
       "  <tbody>\n",
       "    <tr>\n",
       "      <td>0</td>\n",
       "      <td>79.5</td>\n",
       "      <td>110.0</td>\n",
       "      <td>60.0</td>\n",
       "      <td>96.0</td>\n",
       "      <td>195.911052</td>\n",
       "      <td>12.8</td>\n",
       "      <td>8.0</td>\n",
       "      <td>12.0</td>\n",
       "      <td>1.0</td>\n",
       "      <td>1.0</td>\n",
       "      <td>0</td>\n",
       "    </tr>\n",
       "    <tr>\n",
       "      <td>1</td>\n",
       "      <td>69.3</td>\n",
       "      <td>128.0</td>\n",
       "      <td>78.0</td>\n",
       "      <td>79.0</td>\n",
       "      <td>195.911052</td>\n",
       "      <td>15.9</td>\n",
       "      <td>45.0</td>\n",
       "      <td>47.0</td>\n",
       "      <td>1.0</td>\n",
       "      <td>1.0</td>\n",
       "      <td>2</td>\n",
       "    </tr>\n",
       "  </tbody>\n",
       "</table>\n",
       "</div>"
      ],
      "text/plain": [
       "   허리둘레  수축기혈압  이완기혈압  식전혈당(공복혈당)      총콜레스테롤   혈색소  (혈청지오티)ALT  감마지티피  요단백  \\\n",
       "0  79.5  110.0   60.0        96.0  195.911052  12.8         8.0   12.0  1.0   \n",
       "1  69.3  128.0   78.0        79.0  195.911052  15.9        45.0   47.0  1.0   \n",
       "\n",
       "   흡연상태  cluster  \n",
       "0   1.0        0  \n",
       "1   1.0        2  "
      ]
     },
     "execution_count": 22,
     "metadata": {},
     "output_type": "execute_result"
    }
   ],
   "source": [
    "data.head(2)"
   ]
  },
  {
   "cell_type": "code",
   "execution_count": 77,
   "metadata": {},
   "outputs": [],
   "source": [
    "group1_TC = group1[['총콜레스테롤']].values\n",
    "group2_TC = group2[['총콜레스테롤']].values\n",
    "group3_TC = group3[['총콜레스테롤']].values\n",
    "group4_TC = group4[['총콜레스테롤']].values"
   ]
  },
  {
   "cell_type": "code",
   "execution_count": 78,
   "metadata": {},
   "outputs": [
    {
     "data": {
      "image/png": "[encoded data removed]",
      "text/plain": [
       "<Figure size 1008x288 with 1 Axes>"
      ]
     },
     "metadata": {
      "needs_background": "light"
     },
     "output_type": "display_data"
    }
   ],
   "source": [
    "# matplotlib plotting\n",
    "plot_data = [group1_TC, group2_TC, group3_TC, group4_TC]\n",
    "ax = plt.boxplot(plot_data)\n",
    "plt.show()"
   ]
  },
  {
   "cell_type": "code",
   "execution_count": 79,
   "metadata": {
    "scrolled": true
   },
   "outputs": [
    {
     "name": "stdout",
     "output_type": "stream",
     "text": [
      "데이터의 일원분산분석 결과 : F=263.8, p=0.00000\n",
      "P-value 값이 충분히 작음으로 인해 그룹간 총콜레스테롤의 평균이 통계적으로 유의미하게 차이난다.\n"
     ]
    }
   ],
   "source": [
    "F_statistic, pVal = stats.f_oneway(group1_TC, group2_TC, group3_TC)\n",
    "\n",
    "print('데이터의 일원분산분석 결과 : F={0:.1f}, p={1:.5f}'.format(F_statistic[0], pVal[0]))\n",
    "if pVal < 0.05:\n",
    "    print('P-value 값이 충분히 작음으로 인해 그룹간 총콜레스테롤의 평균이 통계적으로 유의미하게 차이난다.')"
   ]
  },
  {
   "cell_type": "code",
   "execution_count": null,
   "metadata": {},
   "outputs": [],
   "source": []
  },
  {
   "cell_type": "markdown",
   "metadata": {},
   "source": [
    "- 가설6 : 군집간 혈색소의 평균에 차이가 있을 것이다."
   ]
  },
  {
   "cell_type": "code",
   "execution_count": 26,
   "metadata": {},
   "outputs": [
    {
     "data": {
      "text/html": [
       "<div>\n",
       "<style scoped>\n",
       "    .dataframe tbody tr th:only-of-type {\n",
       "        vertical-align: middle;\n",
       "    }\n",
       "\n",
       "    .dataframe tbody tr th {\n",
       "        vertical-align: top;\n",
       "    }\n",
       "\n",
       "    .dataframe thead th {\n",
       "        text-align: right;\n",
       "    }\n",
       "</style>\n",
       "<table border=\"1\" class=\"dataframe\">\n",
       "  <thead>\n",
       "    <tr style=\"text-align: right;\">\n",
       "      <th></th>\n",
       "      <th>허리둘레</th>\n",
       "      <th>수축기혈압</th>\n",
       "      <th>이완기혈압</th>\n",
       "      <th>식전혈당(공복혈당)</th>\n",
       "      <th>총콜레스테롤</th>\n",
       "      <th>혈색소</th>\n",
       "      <th>(혈청지오티)ALT</th>\n",
       "      <th>감마지티피</th>\n",
       "      <th>요단백</th>\n",
       "      <th>흡연상태</th>\n",
       "      <th>cluster</th>\n",
       "    </tr>\n",
       "  </thead>\n",
       "  <tbody>\n",
       "    <tr>\n",
       "      <td>0</td>\n",
       "      <td>79.5</td>\n",
       "      <td>110.0</td>\n",
       "      <td>60.0</td>\n",
       "      <td>96.0</td>\n",
       "      <td>195.911052</td>\n",
       "      <td>12.8</td>\n",
       "      <td>8.0</td>\n",
       "      <td>12.0</td>\n",
       "      <td>1.0</td>\n",
       "      <td>1.0</td>\n",
       "      <td>0</td>\n",
       "    </tr>\n",
       "    <tr>\n",
       "      <td>1</td>\n",
       "      <td>69.3</td>\n",
       "      <td>128.0</td>\n",
       "      <td>78.0</td>\n",
       "      <td>79.0</td>\n",
       "      <td>195.911052</td>\n",
       "      <td>15.9</td>\n",
       "      <td>45.0</td>\n",
       "      <td>47.0</td>\n",
       "      <td>1.0</td>\n",
       "      <td>1.0</td>\n",
       "      <td>2</td>\n",
       "    </tr>\n",
       "  </tbody>\n",
       "</table>\n",
       "</div>"
      ],
      "text/plain": [
       "   허리둘레  수축기혈압  이완기혈압  식전혈당(공복혈당)      총콜레스테롤   혈색소  (혈청지오티)ALT  감마지티피  요단백  \\\n",
       "0  79.5  110.0   60.0        96.0  195.911052  12.8         8.0   12.0  1.0   \n",
       "1  69.3  128.0   78.0        79.0  195.911052  15.9        45.0   47.0  1.0   \n",
       "\n",
       "   흡연상태  cluster  \n",
       "0   1.0        0  \n",
       "1   1.0        2  "
      ]
     },
     "execution_count": 26,
     "metadata": {},
     "output_type": "execute_result"
    }
   ],
   "source": [
    "data.head(2)"
   ]
  },
  {
   "cell_type": "code",
   "execution_count": 80,
   "metadata": {},
   "outputs": [],
   "source": [
    "group1_hemo = group1[['혈색소']].values\n",
    "group2_hemo = group2[['혈색소']].values\n",
    "group3_hemo = group3[['혈색소']].values\n",
    "group4_hemo = group4[['혈색소']].values"
   ]
  },
  {
   "cell_type": "code",
   "execution_count": 81,
   "metadata": {},
   "outputs": [
    {
     "data": {
      "image/png": "[encoded data removed]",
      "text/plain": [
       "<Figure size 1008x288 with 1 Axes>"
      ]
     },
     "metadata": {
      "needs_background": "light"
     },
     "output_type": "display_data"
    }
   ],
   "source": [
    "# matplotlib plotting\n",
    "plot_data = [group1_hemo, group2_hemo, group3_hemo,group4_hemo]\n",
    "ax = plt.boxplot(plot_data)\n",
    "plt.show()"
   ]
  },
  {
   "cell_type": "code",
   "execution_count": 82,
   "metadata": {
    "scrolled": true
   },
   "outputs": [
    {
     "name": "stdout",
     "output_type": "stream",
     "text": [
      "데이터의 일원분산분석 결과 : F=143985.0, p=0.00000\n",
      "P-value 값이 충분히 작음으로 인해 그룹간 혈색소의 평균이 통계적으로 유의미하게 차이난다.\n"
     ]
    }
   ],
   "source": [
    "F_statistic, pVal = stats.f_oneway(group1_hemo, group2_hemo, group3_hemo, group4_hemo)\n",
    "\n",
    "print('데이터의 일원분산분석 결과 : F={0:.1f}, p={1:.5f}'.format(F_statistic[0], pVal[0]))\n",
    "if pVal < 0.05:\n",
    "    print('P-value 값이 충분히 작음으로 인해 그룹간 혈색소의 평균이 통계적으로 유의미하게 차이난다.')"
   ]
  },
  {
   "cell_type": "markdown",
   "metadata": {},
   "source": [
    "- 가설7 : 군집간 혈청지오티의 평균에 차이가 있을 것이다."
   ]
  },
  {
   "cell_type": "code",
   "execution_count": 30,
   "metadata": {},
   "outputs": [
    {
     "data": {
      "text/html": [
       "<div>\n",
       "<style scoped>\n",
       "    .dataframe tbody tr th:only-of-type {\n",
       "        vertical-align: middle;\n",
       "    }\n",
       "\n",
       "    .dataframe tbody tr th {\n",
       "        vertical-align: top;\n",
       "    }\n",
       "\n",
       "    .dataframe thead th {\n",
       "        text-align: right;\n",
       "    }\n",
       "</style>\n",
       "<table border=\"1\" class=\"dataframe\">\n",
       "  <thead>\n",
       "    <tr style=\"text-align: right;\">\n",
       "      <th></th>\n",
       "      <th>허리둘레</th>\n",
       "      <th>수축기혈압</th>\n",
       "      <th>이완기혈압</th>\n",
       "      <th>식전혈당(공복혈당)</th>\n",
       "      <th>총콜레스테롤</th>\n",
       "      <th>혈색소</th>\n",
       "      <th>(혈청지오티)ALT</th>\n",
       "      <th>감마지티피</th>\n",
       "      <th>요단백</th>\n",
       "      <th>흡연상태</th>\n",
       "      <th>cluster</th>\n",
       "    </tr>\n",
       "  </thead>\n",
       "  <tbody>\n",
       "    <tr>\n",
       "      <td>0</td>\n",
       "      <td>79.5</td>\n",
       "      <td>110.0</td>\n",
       "      <td>60.0</td>\n",
       "      <td>96.0</td>\n",
       "      <td>195.911052</td>\n",
       "      <td>12.8</td>\n",
       "      <td>8.0</td>\n",
       "      <td>12.0</td>\n",
       "      <td>1.0</td>\n",
       "      <td>1.0</td>\n",
       "      <td>0</td>\n",
       "    </tr>\n",
       "    <tr>\n",
       "      <td>1</td>\n",
       "      <td>69.3</td>\n",
       "      <td>128.0</td>\n",
       "      <td>78.0</td>\n",
       "      <td>79.0</td>\n",
       "      <td>195.911052</td>\n",
       "      <td>15.9</td>\n",
       "      <td>45.0</td>\n",
       "      <td>47.0</td>\n",
       "      <td>1.0</td>\n",
       "      <td>1.0</td>\n",
       "      <td>2</td>\n",
       "    </tr>\n",
       "  </tbody>\n",
       "</table>\n",
       "</div>"
      ],
      "text/plain": [
       "   허리둘레  수축기혈압  이완기혈압  식전혈당(공복혈당)      총콜레스테롤   혈색소  (혈청지오티)ALT  감마지티피  요단백  \\\n",
       "0  79.5  110.0   60.0        96.0  195.911052  12.8         8.0   12.0  1.0   \n",
       "1  69.3  128.0   78.0        79.0  195.911052  15.9        45.0   47.0  1.0   \n",
       "\n",
       "   흡연상태  cluster  \n",
       "0   1.0        0  \n",
       "1   1.0        2  "
      ]
     },
     "execution_count": 30,
     "metadata": {},
     "output_type": "execute_result"
    }
   ],
   "source": [
    "data.head(2)"
   ]
  },
  {
   "cell_type": "code",
   "execution_count": 83,
   "metadata": {},
   "outputs": [],
   "source": [
    "group1_ALT = group1[['(혈청지오티)ALT']].values\n",
    "group2_ALT = group2[['(혈청지오티)ALT']].values\n",
    "group3_ALT = group3[['(혈청지오티)ALT']].values\n",
    "group4_ALT = group4[['(혈청지오티)ALT']].values"
   ]
  },
  {
   "cell_type": "code",
   "execution_count": 85,
   "metadata": {},
   "outputs": [
    {
     "data": {
      "image/png": "[encoded data removed]",
      "text/plain": [
       "<Figure size 1008x288 with 1 Axes>"
      ]
     },
     "metadata": {
      "needs_background": "light"
     },
     "output_type": "display_data"
    }
   ],
   "source": [
    "# matplotlib plotting\n",
    "plot_data = [group1_ALT, group2_ALT, group3_ALT,group4_ALT]\n",
    "ax = plt.boxplot(plot_data)\n",
    "plt.show()"
   ]
  },
  {
   "cell_type": "code",
   "execution_count": 86,
   "metadata": {
    "scrolled": true
   },
   "outputs": [
    {
     "name": "stdout",
     "output_type": "stream",
     "text": [
      "데이터의 일원분산분석 결과 : F=78616.4, p=0.00000\n",
      "P-value 값이 충분히 작음으로 인해 그룹간 혈청지오티 평균이 통계적으로 유의미하게 차이난다.\n"
     ]
    }
   ],
   "source": [
    "F_statistic, pVal = stats.f_oneway(group1_ALT, group2_ALT, group3_ALT, group4_ALT)\n",
    "\n",
    "print('데이터의 일원분산분석 결과 : F={0:.1f}, p={1:.5f}'.format(F_statistic[0], pVal[0]))\n",
    "if pVal < 0.05:\n",
    "    print('P-value 값이 충분히 작음으로 인해 그룹간 혈청지오티 평균이 통계적으로 유의미하게 차이난다.')"
   ]
  },
  {
   "cell_type": "code",
   "execution_count": null,
   "metadata": {},
   "outputs": [],
   "source": []
  },
  {
   "cell_type": "markdown",
   "metadata": {},
   "source": [
    "- 가설8 : 군집간 감마지티피의 평균에 차이가 있을 것이다."
   ]
  },
  {
   "cell_type": "code",
   "execution_count": 87,
   "metadata": {
    "scrolled": true
   },
   "outputs": [
    {
     "data": {
      "text/html": [
       "<div>\n",
       "<style scoped>\n",
       "    .dataframe tbody tr th:only-of-type {\n",
       "        vertical-align: middle;\n",
       "    }\n",
       "\n",
       "    .dataframe tbody tr th {\n",
       "        vertical-align: top;\n",
       "    }\n",
       "\n",
       "    .dataframe thead th {\n",
       "        text-align: right;\n",
       "    }\n",
       "</style>\n",
       "<table border=\"1\" class=\"dataframe\">\n",
       "  <thead>\n",
       "    <tr style=\"text-align: right;\">\n",
       "      <th></th>\n",
       "      <th>BMI</th>\n",
       "      <th>허리둘레</th>\n",
       "      <th>수축기혈압</th>\n",
       "      <th>이완기혈압</th>\n",
       "      <th>식전혈당(공복혈당)</th>\n",
       "      <th>총콜레스테롤</th>\n",
       "      <th>혈색소</th>\n",
       "      <th>(혈청지오티)ALT</th>\n",
       "      <th>감마지티피</th>\n",
       "      <th>요단백</th>\n",
       "      <th>흡연상태</th>\n",
       "      <th>cluster</th>\n",
       "    </tr>\n",
       "  </thead>\n",
       "  <tbody>\n",
       "    <tr>\n",
       "      <td>0</td>\n",
       "      <td>60.0</td>\n",
       "      <td>79.5</td>\n",
       "      <td>110.0</td>\n",
       "      <td>60.0</td>\n",
       "      <td>96.0</td>\n",
       "      <td>195.911052</td>\n",
       "      <td>12.8</td>\n",
       "      <td>8.0</td>\n",
       "      <td>12.0</td>\n",
       "      <td>1.0</td>\n",
       "      <td>1.0</td>\n",
       "      <td>0</td>\n",
       "    </tr>\n",
       "    <tr>\n",
       "      <td>1</td>\n",
       "      <td>55.0</td>\n",
       "      <td>69.3</td>\n",
       "      <td>128.0</td>\n",
       "      <td>78.0</td>\n",
       "      <td>79.0</td>\n",
       "      <td>195.911052</td>\n",
       "      <td>15.9</td>\n",
       "      <td>45.0</td>\n",
       "      <td>47.0</td>\n",
       "      <td>1.0</td>\n",
       "      <td>1.0</td>\n",
       "      <td>3</td>\n",
       "    </tr>\n",
       "  </tbody>\n",
       "</table>\n",
       "</div>"
      ],
      "text/plain": [
       "    BMI  허리둘레  수축기혈압  이완기혈압  식전혈당(공복혈당)      총콜레스테롤   혈색소  (혈청지오티)ALT  감마지티피  \\\n",
       "0  60.0  79.5  110.0   60.0        96.0  195.911052  12.8         8.0   12.0   \n",
       "1  55.0  69.3  128.0   78.0        79.0  195.911052  15.9        45.0   47.0   \n",
       "\n",
       "   요단백  흡연상태  cluster  \n",
       "0  1.0   1.0        0  \n",
       "1  1.0   1.0        3  "
      ]
     },
     "execution_count": 87,
     "metadata": {},
     "output_type": "execute_result"
    }
   ],
   "source": [
    "data.head(2)"
   ]
  },
  {
   "cell_type": "code",
   "execution_count": 88,
   "metadata": {},
   "outputs": [],
   "source": [
    "group1_GTP = group1[['감마지티피']].values\n",
    "group2_GTP = group2[['감마지티피']].values\n",
    "group3_GTP = group3[['감마지티피']].values\n",
    "group4_GTP = group4[['감마지티피']].values"
   ]
  },
  {
   "cell_type": "code",
   "execution_count": 89,
   "metadata": {},
   "outputs": [
    {
     "data": {
      "image/png": "[encoded data removed]",
      "text/plain": [
       "<Figure size 1008x288 with 1 Axes>"
      ]
     },
     "metadata": {
      "needs_background": "light"
     },
     "output_type": "display_data"
    }
   ],
   "source": [
    "# matplotlib plotting\n",
    "plot_data = [group1_GTP, group2_GTP, group3_GTP,group4_GTP]\n",
    "ax = plt.boxplot(plot_data)\n",
    "plt.show()"
   ]
  },
  {
   "cell_type": "code",
   "execution_count": 90,
   "metadata": {
    "scrolled": false
   },
   "outputs": [
    {
     "name": "stdout",
     "output_type": "stream",
     "text": [
      "데이터의 일원분산분석 결과 : F=119818.2, p=0.00000\n",
      "P-value 값이 충분히 작음으로 인해 그룹간 감마지티피 평균이 통계적으로 유의미하게 차이난다.\n"
     ]
    }
   ],
   "source": [
    "F_statistic, pVal = stats.f_oneway(group1_GTP, group2_GTP, group3_GTP,group4_GTP)\n",
    "\n",
    "print('데이터의 일원분산분석 결과 : F={0:.1f}, p={1:.5f}'.format(F_statistic[0], pVal[0]))\n",
    "if pVal < 0.05:\n",
    "    print('P-value 값이 충분히 작음으로 인해 그룹간 감마지티피 평균이 통계적으로 유의미하게 차이난다.')"
   ]
  },
  {
   "cell_type": "markdown",
   "metadata": {},
   "source": [
    "- 가설9 : 군집간 요단백에 차이가 있을 것이다. -> 카이스퀘어 분석"
   ]
  },
  {
   "cell_type": "code",
   "execution_count": 91,
   "metadata": {},
   "outputs": [
    {
     "data": {
      "text/html": [
       "<div>\n",
       "<style scoped>\n",
       "    .dataframe tbody tr th:only-of-type {\n",
       "        vertical-align: middle;\n",
       "    }\n",
       "\n",
       "    .dataframe tbody tr th {\n",
       "        vertical-align: top;\n",
       "    }\n",
       "\n",
       "    .dataframe thead th {\n",
       "        text-align: right;\n",
       "    }\n",
       "</style>\n",
       "<table border=\"1\" class=\"dataframe\">\n",
       "  <thead>\n",
       "    <tr style=\"text-align: right;\">\n",
       "      <th>cluster</th>\n",
       "      <th>0</th>\n",
       "      <th>1</th>\n",
       "      <th>2</th>\n",
       "      <th>3</th>\n",
       "    </tr>\n",
       "    <tr>\n",
       "      <th>요단백</th>\n",
       "      <th></th>\n",
       "      <th></th>\n",
       "      <th></th>\n",
       "      <th></th>\n",
       "    </tr>\n",
       "  </thead>\n",
       "  <tbody>\n",
       "    <tr>\n",
       "      <td>1.0</td>\n",
       "      <td>242278</td>\n",
       "      <td>216422</td>\n",
       "      <td>0</td>\n",
       "      <td>240198</td>\n",
       "    </tr>\n",
       "    <tr>\n",
       "      <td>2.0</td>\n",
       "      <td>5702</td>\n",
       "      <td>788</td>\n",
       "      <td>11794</td>\n",
       "      <td>4380</td>\n",
       "    </tr>\n",
       "    <tr>\n",
       "      <td>3.0</td>\n",
       "      <td>0</td>\n",
       "      <td>0</td>\n",
       "      <td>9910</td>\n",
       "      <td>0</td>\n",
       "    </tr>\n",
       "    <tr>\n",
       "      <td>4.0</td>\n",
       "      <td>0</td>\n",
       "      <td>0</td>\n",
       "      <td>2948</td>\n",
       "      <td>0</td>\n",
       "    </tr>\n",
       "    <tr>\n",
       "      <td>5.0</td>\n",
       "      <td>0</td>\n",
       "      <td>0</td>\n",
       "      <td>858</td>\n",
       "      <td>0</td>\n",
       "    </tr>\n",
       "    <tr>\n",
       "      <td>6.0</td>\n",
       "      <td>0</td>\n",
       "      <td>0</td>\n",
       "      <td>246</td>\n",
       "      <td>0</td>\n",
       "    </tr>\n",
       "  </tbody>\n",
       "</table>\n",
       "</div>"
      ],
      "text/plain": [
       "cluster       0       1      2       3\n",
       "요단백                                   \n",
       "1.0      242278  216422      0  240198\n",
       "2.0        5702     788  11794    4380\n",
       "3.0           0       0   9910       0\n",
       "4.0           0       0   2948       0\n",
       "5.0           0       0    858       0\n",
       "6.0           0       0    246       0"
      ]
     },
     "execution_count": 91,
     "metadata": {},
     "output_type": "execute_result"
    }
   ],
   "source": [
    "pd.crosstab(df1['요단백'],df1['cluster'])"
   ]
  },
  {
   "cell_type": "code",
   "execution_count": 96,
   "metadata": {},
   "outputs": [],
   "source": [
    "a=np.array([[242278, 216422,0, 240198], \n",
    "            [5702, 788, 11794, 4380], \n",
    "            [0,0, 9910, 0],\n",
    "            [0, 0, 2948, 0],\n",
    "            [0, 0, 858, 0],\n",
    "            [0, 0, 246,0]])"
   ]
  },
  {
   "cell_type": "code",
   "execution_count": 97,
   "metadata": {},
   "outputs": [],
   "source": [
    "chi = sp.stats.chi2_contingency(a)\n"
   ]
  },
  {
   "cell_type": "code",
   "execution_count": 98,
   "metadata": {},
   "outputs": [
    {
     "name": "stdout",
     "output_type": "stream",
     "text": [
      "데이터의 카이제곱 분석결과 : 검정통계량 = 569664.1, p = 0.000000\n",
      "P-value 값이 충분히 작음으로 인해 그룹간 요단백의 차이가 있다.\n"
     ]
    }
   ],
   "source": [
    "print('데이터의 카이제곱 분석결과 : 검정통계량 = {0:.1f}, p = {1:5f}'.format(chi[0], chi[1]))\n",
    "if chi[1] < 0.05:\n",
    "    print('P-value 값이 충분히 작음으로 인해 그룹간 요단백의 차이가 있다.')"
   ]
  },
  {
   "cell_type": "markdown",
   "metadata": {},
   "source": [
    "- 가설10 : 군집간 흡연상태에 차이가 있을 것이다. -> 카이스퀘어 분석"
   ]
  },
  {
   "cell_type": "code",
   "execution_count": 99,
   "metadata": {
    "scrolled": false
   },
   "outputs": [
    {
     "data": {
      "text/html": [
       "<div>\n",
       "<style scoped>\n",
       "    .dataframe tbody tr th:only-of-type {\n",
       "        vertical-align: middle;\n",
       "    }\n",
       "\n",
       "    .dataframe tbody tr th {\n",
       "        vertical-align: top;\n",
       "    }\n",
       "\n",
       "    .dataframe thead th {\n",
       "        text-align: right;\n",
       "    }\n",
       "</style>\n",
       "<table border=\"1\" class=\"dataframe\">\n",
       "  <thead>\n",
       "    <tr style=\"text-align: right;\">\n",
       "      <th>cluster</th>\n",
       "      <th>0</th>\n",
       "      <th>1</th>\n",
       "      <th>2</th>\n",
       "      <th>3</th>\n",
       "    </tr>\n",
       "    <tr>\n",
       "      <th>흡연상태</th>\n",
       "      <th></th>\n",
       "      <th></th>\n",
       "      <th></th>\n",
       "      <th></th>\n",
       "    </tr>\n",
       "  </thead>\n",
       "  <tbody>\n",
       "    <tr>\n",
       "      <td>1.0</td>\n",
       "      <td>213028</td>\n",
       "      <td>190237</td>\n",
       "      <td>17169</td>\n",
       "      <td>66675</td>\n",
       "    </tr>\n",
       "    <tr>\n",
       "      <td>2.0</td>\n",
       "      <td>16533</td>\n",
       "      <td>20143</td>\n",
       "      <td>4603</td>\n",
       "      <td>76492</td>\n",
       "    </tr>\n",
       "    <tr>\n",
       "      <td>3.0</td>\n",
       "      <td>18419</td>\n",
       "      <td>6830</td>\n",
       "      <td>3984</td>\n",
       "      <td>101411</td>\n",
       "    </tr>\n",
       "  </tbody>\n",
       "</table>\n",
       "</div>"
      ],
      "text/plain": [
       "cluster       0       1      2       3\n",
       "흡연상태                                  \n",
       "1.0      213028  190237  17169   66675\n",
       "2.0       16533   20143   4603   76492\n",
       "3.0       18419    6830   3984  101411"
      ]
     },
     "execution_count": 99,
     "metadata": {},
     "output_type": "execute_result"
    }
   ],
   "source": [
    "pd.crosstab(df1['흡연상태'],df1['cluster'])"
   ]
  },
  {
   "cell_type": "code",
   "execution_count": 104,
   "metadata": {},
   "outputs": [],
   "source": [
    "a=np.array([[213028, 190237,17169, 66675], [16533, 20143, 4603, 76492], [18419, 6830, 3984, 101411]])"
   ]
  },
  {
   "cell_type": "code",
   "execution_count": 105,
   "metadata": {},
   "outputs": [],
   "source": [
    "chi = sp.stats.chi2_contingency(a)\n"
   ]
  },
  {
   "cell_type": "code",
   "execution_count": 106,
   "metadata": {},
   "outputs": [
    {
     "name": "stdout",
     "output_type": "stream",
     "text": [
      "데이터의 카이제곱 분석결과 : 검정통계량 = 259326.2, p = 0.000000\n",
      "P-value 값이 충분히 작음으로 인해 그룹간 흡연상태의 차이가 있다.\n"
     ]
    }
   ],
   "source": [
    "print('데이터의 카이제곱 분석결과 : 검정통계량 = {0:.1f}, p = {1:5f}'.format(chi[0], chi[1]))\n",
    "if chi[1] < 0.05:\n",
    "    print('P-value 값이 충분히 작음으로 인해 그룹간 흡연상태의 차이가 있다.')"
   ]
  },
  {
   "cell_type": "code",
   "execution_count": null,
   "metadata": {},
   "outputs": [],
   "source": []
  }
 ],
 "metadata": {
  "kernelspec": {
   "display_name": "Python 3",
   "language": "python",
   "name": "python3"
  },
  "language_info": {
   "codemirror_mode": {
    "name": "ipython",
    "version": 3
   },
   "file_extension": ".py",
   "mimetype": "text/x-python",
   "name": "python",
   "nbconvert_exporter": "python",
   "pygments_lexer": "ipython3",
   "version": "3.7.4"
  },
  "varInspector": {
   "cols": {
    "lenName": 16,
    "lenType": 16,
    "lenVar": 40
   },
   "kernels_config": {
    "python": {
     "delete_cmd_postfix": "",
     "delete_cmd_prefix": "del ",
     "library": "var_list.py",
     "varRefreshCmd": "print(var_dic_list())"
    },
    "r": {
     "delete_cmd_postfix": ") ",
     "delete_cmd_prefix": "rm(",
     "library": "var_list.r",
     "varRefreshCmd": "cat(var_dic_list()) "
    }
   },
   "types_to_exclude": [
    "module",
    "function",
    "builtin_function_or_method",
    "instance",
    "_Feature"
   ],
   "window_display": false
  }
 },
 "nbformat": 4,
 "nbformat_minor": 2
}
